{
 "cells": [
  {
   "cell_type": "code",
   "execution_count": 1,
   "metadata": {},
   "outputs": [
    {
     "name": "stderr",
     "output_type": "stream",
     "text": [
      "┌ Info: Recompiling stale cache file /kuacc/users/ikesen16/.julia/compiled/v1.1/Sloth/WC84r.ji for Sloth [599f0d3e-fa5b-11e8-3d5f-e1ebc21cfa8f]\n",
      "└ @ Base loading.jl:1184\n"
     ]
    }
   ],
   "source": [
    "includet(\"model.jl\")"
   ]
  },
  {
   "cell_type": "code",
   "execution_count": 15,
   "metadata": {},
   "outputs": [
    {
     "data": {
      "text/plain": [
       "3-element Array{Symbol,1}:\n",
       " :ram    \n",
       " :history\n",
       " :o      "
      ]
     },
     "execution_count": 15,
     "metadata": {},
     "output_type": "execute_result"
    }
   ],
   "source": [
    "Knet.@load \"/scratch/users/ikesen16/repos/ilkerkesen/RAM/models/scale1-rmsprop-best.jld2\""
   ]
  },
  {
   "cell_type": "code",
   "execution_count": 16,
   "metadata": {},
   "outputs": [
    {
     "data": {
      "text/plain": [
       "10-element Array{Float64,1}:\n",
       " -0.03730936222965814 \n",
       "  0.06658853673528464 \n",
       "  0.022401144182046164\n",
       " -0.12629904314698895 \n",
       "  0.9780315170940171  \n",
       "  0.2812094644890918  \n",
       "  0.2205905322388019  \n",
       "  0.04881957771759994 \n",
       "  0.011799354532689951\n",
       "  0.9467147435897436  "
      ]
     },
     "execution_count": 16,
     "metadata": {},
     "output_type": "execute_result"
    }
   ],
   "source": [
    "history[end]"
   ]
  },
  {
   "cell_type": "code",
   "execution_count": 17,
   "metadata": {},
   "outputs": [
    {
     "name": "stderr",
     "output_type": "stream",
     "text": [
      "error in running finalizer: MethodError(f=typeof(Base.getindex)(), args=(nothing, 1), world=0x0000000000006470)\n",
      "error in running finalizer: MethodError(f=typeof(Base.getindex)(), args=(nothing, 1), world=0x0000000000006470)\n",
      "error in running finalizer: MethodError(f=typeof(Base.getindex)(), args=(nothing, 1), world=0x0000000000006470)\n",
      "error in running finalizer: MethodError(f=typeof(Base.getindex)(), args=(nothing, 1), world=0x0000000000006470)\n",
      "error in running finalizer: MethodError(f=typeof(Base.getindex)(), args=(nothing, 1), world=0x0000000000006470)\n",
      "error in running finalizer: MethodError(f=typeof(Base.getindex)(), args=(nothing, 1), world=0x0000000000006470)\n",
      "error in running finalizer: MethodError(f=typeof(Base.getindex)(), args=(nothing, 1), world=0x0000000000006470)\n",
      "error in running finalizer: MethodError(f=typeof(Base.getindex)(), args=(nothing, 1), world=0x0000000000006470)\n",
      "error in running finalizer: MethodError(f=typeof(Base.getindex)(), args=(nothing, 1), world=0x0000000000006470)\n",
      "error in running finalizer: MethodError(f=typeof(Base.getindex)(), args=(nothing, 1), world=0x0000000000006470)\n",
      "error in running finalizer: MethodError(f=typeof(Base.getindex)(), args=(nothing, 1), world=0x0000000000006470)\n",
      "error in running finalizer: MethodError(f=typeof(Base.getindex)(), args=(nothing, 1), world=0x0000000000006470)\n",
      "error in running finalizer: MethodError(f=typeof(Base.getindex)(), args=(nothing, 1), world=0x0000000000006470)\n",
      "error in running finalizer: MethodError(f=typeof(Base.getindex)(), args=(nothing, 1), world=0x0000000000006470)\n",
      "error in running finalizer: MethodError(f=typeof(Base.getindex)(), args=(nothing, 1), world=0x0000000000006470)\n",
      "error in running finalizer: MethodError(f=typeof(Base.getindex)(), args=(nothing, 1), world=0x0000000000006470)\n",
      "error in running finalizer: MethodError(f=typeof(Base.getindex)(), args=(nothing, 1), world=0x0000000000006470)\n",
      "error in running finalizer: MethodError(f=typeof(Base.getindex)(), args=(nothing, 1), world=0x0000000000006470)\n",
      "error in running finalizer: MethodError(f=typeof(Base.getindex)(), args=(nothing, 1), world=0x0000000000006470)\n",
      "error in running finalizer: MethodError(f=typeof(Base.getindex)(), args=(nothing, 1), world=0x0000000000006470)\n",
      "error in running finalizer: MethodError(f=typeof(Base.getindex)(), args=(nothing, 1), world=0x0000000000006470)\n",
      "error in running finalizer: MethodError(f=typeof(Base.getindex)(), args=(nothing, 1), world=0x0000000000006470)\n",
      "error in running finalizer: MethodError(f=typeof(Base.getindex)(), args=(nothing, 1), world=0x0000000000006470)\n",
      "error in running finalizer: MethodError(f=typeof(Base.getindex)(), args=(nothing, 1), world=0x0000000000006470)\n",
      "error in running finalizer: MethodError(f=typeof(Base.getindex)(), args=(nothing, 1), world=0x0000000000006470)\n",
      "error in running finalizer: MethodError(f=typeof(Base.getindex)(), args=(nothing, 1), world=0x0000000000006470)\n",
      "error in running finalizer: MethodError(f=typeof(Base.getindex)(), args=(nothing, 1), world=0x0000000000006470)\n",
      "error in running finalizer: MethodError(f=typeof(Base.getindex)(), args=(nothing, 1), world=0x0000000000006470)\n",
      "error in running finalizer: MethodError(f=typeof(Base.getindex)(), args=(nothing, 1), world=0x0000000000006470)\n",
      "error in running finalizer: MethodError(f=typeof(Base.getindex)(), args=(nothing, 1), world=0x0000000000006470)\n",
      "error in running finalizer: MethodError(f=typeof(Base.getindex)(), args=(nothing, 1), world=0x0000000000006470)\n",
      "error in running finalizer: MethodError(f=typeof(Base.getindex)(), args=(nothing, 1), world=0x0000000000006470)\n",
      "error in running finalizer: MethodError(f=typeof(Base.getindex)(), args=(nothing, 1), world=0x0000000000006470)\n",
      "error in running finalizer: MethodError(f=typeof(Base.getindex)(), args=(nothing, 1), world=0x0000000000006470)\n",
      "error in running finalizer: MethodError(f=typeof(Base.getindex)(), args=(nothing, 1), world=0x0000000000006470)\n",
      "error in running finalizer: MethodError(f=typeof(Base.getindex)(), args=(nothing, 1), world=0x0000000000006470)\n",
      "error in running finalizer: MethodError(f=typeof(Base.getindex)(), args=(nothing, 1), world=0x0000000000006470)\n",
      "error in running finalizer: MethodError(f=typeof(Base.getindex)(), args=(nothing, 1), world=0x0000000000006470)\n",
      "error in running finalizer: MethodError(f=typeof(Base.getindex)(), args=(nothing, 1), world=0x0000000000006470)\n",
      "error in running finalizer: MethodError(f=typeof(Base.getindex)(), args=(nothing, 1), world=0x0000000000006470)\n",
      "error in running finalizer: MethodError(f=typeof(Base.getindex)(), args=(nothing, 1), world=0x0000000000006470)\n",
      "error in running finalizer: MethodError(f=typeof(Base.getindex)(), args=(nothing, 1), world=0x0000000000006470)\n",
      "error in running finalizer: MethodError(f=typeof(Base.getindex)(), args=(nothing, 1), world=0x0000000000006470)\n",
      "error in running finalizer: MethodError(f=typeof(Base.getindex)(), args=(nothing, 1), world=0x0000000000006470)\n",
      "error in running finalizer: MethodError(f=typeof(Base.getindex)(), args=(nothing, 1), world=0x0000000000006470)\n",
      "error in running finalizer: MethodError(f=typeof(Base.getindex)(), args=(nothing, 1), world=0x0000000000006470)\n",
      "error in running finalizer: MethodError(f=typeof(Base.getindex)(), args=(nothing, 1), world=0x0000000000006470)\n",
      "error in running finalizer: MethodError(f=typeof(Base.getindex)(), args=(nothing, 1), world=0x0000000000006470)\n",
      "error in running finalizer: MethodError(f=typeof(Base.getindex)(), args=(nothing, 1), world=0x0000000000006470)\n",
      "error in running finalizer: MethodError(f=typeof(Base.getindex)(), args=(nothing, 1), world=0x0000000000006470)\n",
      "error in running finalizer: MethodError(f=typeof(Base.getindex)(), args=(nothing, 1), world=0x0000000000006470)\n",
      "error in running finalizer: MethodError(f=typeof(Base.getindex)(), args=(nothing, 1), world=0x0000000000006470)\n",
      "error in running finalizer: MethodError(f=typeof(Base.getindex)(), args=(nothing, 1), world=0x0000000000006470)\n",
      "error in running finalizer: MethodError(f=typeof(Base.getindex)(), args=(nothing, 1), world=0x0000000000006470)\n",
      "error in running finalizer: MethodError(f=typeof(Base.getindex)(), args=(nothing, 1), world=0x0000000000006470)\n",
      "error in running finalizer: MethodError(f=typeof(Base.getindex)(), args=(nothing, 1), world=0x0000000000006470)\n",
      "error in running finalizer: MethodError(f=typeof(Base.getindex)(), args=(nothing, 1), world=0x0000000000006470)\n",
      "error in running finalizer: MethodError(f=typeof(Base.getindex)(), args=(nothing, 1), world=0x0000000000006470)\n",
      "error in running finalizer: MethodError(f=typeof(Base.getindex)(), args=(nothing, 1), world=0x0000000000006470)\n",
      "error in running finalizer: MethodError(f=typeof(Base.getindex)(), args=(nothing, 1), world=0x0000000000006470)\n",
      "error in running finalizer: MethodError(f=typeof(Base.getindex)(), args=(nothing, 1), world=0x0000000000006470)\n",
      "error in running finalizer: MethodError(f=typeof(Base.getindex)(), args=(nothing, 1), world=0x0000000000006470)\n",
      "error in running finalizer: MethodError(f=typeof(Base.getindex)(), args=(nothing, 1), world=0x0000000000006470)\n",
      "error in running finalizer: MethodError(f=typeof(Base.getindex)(), args=(nothing, 1), world=0x0000000000006470)\n",
      "error in running finalizer: MethodError(f=typeof(Base.getindex)(), args=(nothing, 1), world=0x0000000000006470)\n",
      "error in running finalizer: MethodError(f=typeof(Base.getindex)(), args=(nothing, 1), world=0x0000000000006470)\n",
      "error in running finalizer: MethodError(f=typeof(Base.getindex)(), args=(nothing, 1), world=0x0000000000006470)\n",
      "error in running finalizer: MethodError(f=typeof(Base.getindex)(), args=(nothing, 1), world=0x0000000000006470)\n",
      "error in running finalizer: MethodError(f=typeof(Base.getindex)(), args=(nothing, 1), world=0x0000000000006470)\n",
      "error in running finalizer: MethodError(f=typeof(Base.getindex)(), args=(nothing, 1), world=0x0000000000006470)\n",
      "error in running finalizer: MethodError(f=typeof(Base.getindex)(), args=(nothing, 1), world=0x0000000000006470)\n",
      "error in running finalizer: MethodError(f=typeof(Base.getindex)(), args=(nothing, 1), world=0x0000000000006470)\n",
      "error in running finalizer: MethodError(f=typeof(Base.getindex)(), args=(nothing, 1), world=0x0000000000006470)\n",
      "error in running finalizer: MethodError(f=typeof(Base.getindex)(), args=(nothing, 1), world=0x0000000000006470)\n",
      "error in running finalizer: MethodError(f=typeof(Base.getindex)(), args=(nothing, 1), world=0x0000000000006470)\n",
      "error in running finalizer: MethodError(f=typeof(Base.getindex)(), args=(nothing, 1), world=0x0000000000006470)\n",
      "error in running finalizer: MethodError(f=typeof(Base.getindex)(), args=(nothing, 1), world=0x0000000000006470)\n",
      "error in running finalizer: MethodError(f=typeof(Base.getindex)(), args=(nothing, 1), world=0x0000000000006470)\n",
      "error in running finalizer: MethodError(f=typeof(Base.getindex)(), args=(nothing, 1), world=0x0000000000006470)\n",
      "error in running finalizer: MethodError(f=typeof(Base.getindex)(), args=(nothing, 1), world=0x0000000000006470)\n",
      "error in running finalizer: MethodError(f=typeof(Base.getindex)(), args=(nothing, 1), world=0x0000000000006470)\n",
      "error in running finalizer: MethodError(f=typeof(Base.getindex)(), args=(nothing, 1), world=0x0000000000006470)\n",
      "error in running finalizer: MethodError(f=typeof(Base.getindex)(), args=(nothing, 1), world=0x0000000000006470)\n",
      "error in running finalizer: MethodError(f=typeof(Base.getindex)(), args=(nothing, 1), world=0x0000000000006470)\n",
      "error in running finalizer: MethodError(f=typeof(Base.getindex)(), args=(nothing, 1), world=0x0000000000006470)\n",
      "error in running finalizer: MethodError(f=typeof(Base.getindex)(), args=(nothing, 1), world=0x0000000000006470)\n",
      "error in running finalizer: MethodError(f=typeof(Base.getindex)(), args=(nothing, 1), world=0x0000000000006470)\n",
      "error in running finalizer: MethodError(f=typeof(Base.getindex)(), args=(nothing, 1), world=0x0000000000006470)\n",
      "error in running finalizer: MethodError(f=typeof(Base.getindex)(), args=(nothing, 1), world=0x0000000000006470)\n",
      "error in running finalizer: MethodError(f=typeof(Base.getindex)(), args=(nothing, 1), world=0x0000000000006470)\n",
      "error in running finalizer: MethodError(f=typeof(Base.getindex)(), args=(nothing, 1), world=0x0000000000006470)\n",
      "error in running finalizer: MethodError(f=typeof(Base.getindex)(), args=(nothing, 1), world=0x0000000000006470)\n",
      "error in running finalizer: MethodError(f=typeof(Base.getindex)(), args=(nothing, 1), world=0x0000000000006470)\n",
      "error in running finalizer: MethodError(f=typeof(Base.getindex)(), args=(nothing, 1), world=0x0000000000006470)\n",
      "error in running finalizer: MethodError(f=typeof(Base.getindex)(), args=(nothing, 1), world=0x0000000000006470)\n",
      "error in running finalizer: MethodError(f=typeof(Base.getindex)(), args=(nothing, 1), world=0x0000000000006470)\n",
      "error in running finalizer: MethodError(f=typeof(Base.getindex)(), args=(nothing, 1), world=0x0000000000006470)\n",
      "error in running finalizer: MethodError(f=typeof(Base.getindex)(), args=(nothing, 1), world=0x0000000000006470)\n",
      "error in running finalizer: MethodError(f=typeof(Base.getindex)(), args=(nothing, 1), world=0x0000000000006470)\n",
      "error in running finalizer: MethodError(f=typeof(Base.getindex)(), args=(nothing, 1), world=0x0000000000006470)\n",
      "error in running finalizer: MethodError(f=typeof(Base.getindex)(), args=(nothing, 1), world=0x0000000000006470)\n",
      "error in running finalizer: MethodError(f=typeof(Base.getindex)(), args=(nothing, 1), world=0x0000000000006470)\n",
      "error in running finalizer: MethodError(f=typeof(Base.getindex)(), args=(nothing, 1), world=0x0000000000006470)\n",
      "error in running finalizer: MethodError(f=typeof(Base.getindex)(), args=(nothing, 1), world=0x0000000000006470)\n",
      "┌ Info: Recompiling stale cache file /kuacc/users/ikesen16/.julia/compiled/v1.1/Plots/ld3vC.ji for Plots [91a5bcdd-55d7-5caf-9e0b-520d859cae80]\n",
      "└ @ Base loading.jl:1184\n"
     ]
    },
    {
     "name": "stderr",
     "output_type": "stream",
     "text": [
      "error in running finalizer: MethodError(f=typeof(Base.getindex)(), args=(nothing, 1), world=0x000000000000647d)\n",
      "error in running finalizer: MethodError(f=typeof(Base.getindex)(), args=(nothing, 1), world=0x000000000000647d)\n",
      "error in running finalizer: MethodError(f=typeof(Base.getindex)(), args=(nothing, 1), world=0x000000000000647d)\n",
      "error in running finalizer: MethodError(f=typeof(Base.getindex)(), args=(nothing, 1), world=0x000000000000647d)\n",
      "error in running finalizer: MethodError(f=typeof(Base.getindex)(), args=(nothing, 1), world=0x000000000000647d)\n",
      "error in running finalizer: MethodError(f=typeof(Base.getindex)(), args=(nothing, 1), world=0x000000000000647d)\n",
      "error in running finalizer: MethodError(f=typeof(Base.getindex)(), args=(nothing, 1), world=0x000000000000647d)\n",
      "error in running finalizer: MethodError(f=typeof(Base.getindex)(), args=(nothing, 1), world=0x000000000000647d)\n",
      "error in running finalizer: MethodError(f=typeof(Base.getindex)(), args=(nothing, 1), world=0x000000000000647d)\n",
      "error in running finalizer: MethodError(f=typeof(Base.getindex)(), args=(nothing, 1), world=0x000000000000647d)\n",
      "error in running finalizer: MethodError(f=typeof(Base.getindex)(), args=(nothing, 1), world=0x000000000000647d)\n",
      "error in running finalizer: MethodError(f=typeof(Base.getindex)(), args=(nothing, 1), world=0x000000000000647d)\n",
      "error in running finalizer: MethodError(f=typeof(Base.getindex)(), args=(nothing, 1), world=0x000000000000647d)\n",
      "error in running finalizer: MethodError(f=typeof(Base.getindex)(), args=(nothing, 1), world=0x000000000000647d)\n",
      "error in running finalizer: MethodError(f=typeof(Base.getindex)(), args=(nothing, 1), world=0x000000000000647d)\n",
      "error in running finalizer: MethodError(f=typeof(Base.getindex)(), args=(nothing, 1), world=0x000000000000647d)\n",
      "error in running finalizer: MethodError(f=typeof(Base.getindex)(), args=(nothing, 1), world=0x000000000000647d)\n",
      "error in running finalizer: MethodError(f=typeof(Base.getindex)(), args=(nothing, 1), world=0x000000000000647d)\n",
      "error in running finalizer: MethodError(f=typeof(Base.getindex)(), args=(nothing, 1), world=0x000000000000647d)\n",
      "error in running finalizer: MethodError(f=typeof(Base.getindex)(), args=(nothing, 1), world=0x000000000000647d)\n",
      "error in running finalizer: MethodError(f=typeof(Base.getindex)(), args=(nothing, 1), world=0x000000000000647d)\n",
      "error in running finalizer: MethodError(f=typeof(Base.getindex)(), args=(nothing, 1), world=0x000000000000647d)\n",
      "error in running finalizer: MethodError(f=typeof(Base.getindex)(), args=(nothing, 1), world=0x000000000000647d)\n",
      "error in running finalizer: MethodError(f=typeof(Base.getindex)(), args=(nothing, 1), world=0x000000000000647d)\n",
      "error in running finalizer: MethodError(f=typeof(Base.getindex)(), args=(nothing, 1), world=0x000000000000647d)\n",
      "error in running finalizer: MethodError(f=typeof(Base.getindex)(), args=(nothing, 1), world=0x000000000000647d)\n",
      "error in running finalizer: MethodError(f=typeof(Base.getindex)(), args=(nothing, 1), world=0x000000000000647d)\n",
      "error in running finalizer: MethodError(f=typeof(Base.getindex)(), args=(nothing, 1), world=0x000000000000647d)\n",
      "error in running finalizer: MethodError(f=typeof(Base.getindex)(), args=(nothing, 1), world=0x000000000000647d)\n",
      "error in running finalizer: MethodError(f=typeof(Base.getindex)(), args=(nothing, 1), world=0x000000000000647d)\n",
      "error in running finalizer: MethodError(f=typeof(Base.getindex)(), args=(nothing, 1), world=0x000000000000647d)\n",
      "error in running finalizer: MethodError(f=typeof(Base.getindex)(), args=(nothing, 1), world=0x000000000000647d)\n",
      "error in running finalizer: MethodError(f=typeof(Base.getindex)(), args=(nothing, 1), world=0x000000000000647d)\n",
      "error in running finalizer: MethodError(f=typeof(Base.getindex)(), args=(nothing, 1), world=0x000000000000647d)\n",
      "error in running finalizer: MethodError(f=typeof(Base.getindex)(), args=(nothing, 1), world=0x000000000000647d)\n",
      "error in running finalizer: MethodError(f=typeof(Base.getindex)(), args=(nothing, 1), world=0x000000000000647d)\n",
      "error in running finalizer: MethodError(f=typeof(Base.getindex)(), args=(nothing, 1), world=0x000000000000647d)\n",
      "error in running finalizer: MethodError(f=typeof(Base.getindex)(), args=(nothing, 1), world=0x000000000000647d)\n",
      "error in running finalizer: MethodError(f=typeof(Base.getindex)(), args=(nothing, 1), world=0x000000000000647d)\n",
      "error in running finalizer: MethodError(f=typeof(Base.getindex)(), args=(nothing, 1), world=0x000000000000647d)\n",
      "error in running finalizer: MethodError(f=typeof(Base.getindex)(), args=(nothing, 1), world=0x000000000000647d)\n",
      "error in running finalizer: MethodError(f=typeof(Base.getindex)(), args=(nothing, 1), world=0x000000000000647d)\n",
      "error in running finalizer: MethodError(f=typeof(Base.getindex)(), args=(nothing, 1), world=0x000000000000647d)\n",
      "error in running finalizer: MethodError(f=typeof(Base.getindex)(), args=(nothing, 1), world=0x000000000000647d)\n",
      "error in running finalizer: MethodError(f=typeof(Base.getindex)(), args=(nothing, 1), world=0x000000000000647d)\n",
      "error in running finalizer: MethodError(f=typeof(Base.getindex)(), args=(nothing, 1), world=0x000000000000647d)\n",
      "error in running finalizer: MethodError(f=typeof(Base.getindex)(), args=(nothing, 1), world=0x000000000000647d)\n",
      "error in running finalizer: MethodError(f=typeof(Base.getindex)(), args=(nothing, 1), world=0x000000000000647d)\n",
      "error in running finalizer: MethodError(f=typeof(Base.getindex)(), args=(nothing, 1), world=0x000000000000647d)\n",
      "error in running finalizer: MethodError(f=typeof(Base.getindex)(), args=(nothing, 1), world=0x000000000000647d)\n",
      "error in running finalizer: MethodError(f=typeof(Base.getindex)(), args=(nothing, 1), world=0x000000000000647d)\n",
      "error in running finalizer: MethodError(f=typeof(Base.getindex)(), args=(nothing, 1), world=0x000000000000647d)\n",
      "error in running finalizer: MethodError(f=typeof(Base.getindex)(), args=(nothing, 1), world=0x000000000000647d)\n",
      "error in running finalizer: MethodError(f=typeof(Base.getindex)(), args=(nothing, 1), world=0x000000000000647d)\n",
      "error in running finalizer: MethodError(f=typeof(Base.getindex)(), args=(nothing, 1), world=0x000000000000647d)\n",
      "error in running finalizer: MethodError(f=typeof(Base.getindex)(), args=(nothing, 1), world=0x000000000000647d)\n",
      "error in running finalizer: MethodError(f=typeof(Base.getindex)(), args=(nothing, 1), world=0x000000000000647d)\n",
      "error in running finalizer: MethodError(f=typeof(Base.getindex)(), args=(nothing, 1), world=0x000000000000647d)\n",
      "error in running finalizer: MethodError(f=typeof(Base.getindex)(), args=(nothing, 1), world=0x000000000000647d)\n",
      "error in running finalizer: MethodError(f=typeof(Base.getindex)(), args=(nothing, 1), world=0x000000000000647d)\n",
      "error in running finalizer: MethodError(f=typeof(Base.getindex)(), args=(nothing, 1), world=0x000000000000647d)\n",
      "error in running finalizer: MethodError(f=typeof(Base.getindex)(), args=(nothing, 1), world=0x000000000000647d)\n",
      "error in running finalizer: MethodError(f=typeof(Base.getindex)(), args=(nothing, 1), world=0x000000000000647d)\n",
      "error in running finalizer: MethodError(f=typeof(Base.getindex)(), args=(nothing, 1), world=0x000000000000647d)\n",
      "error in running finalizer: MethodError(f=typeof(Base.getindex)(), args=(nothing, 1), world=0x000000000000647d)\n",
      "error in running finalizer: MethodError(f=typeof(Base.getindex)(), args=(nothing, 1), world=0x000000000000647d)\n",
      "error in running finalizer: MethodError(f=typeof(Base.getindex)(), args=(nothing, 1), world=0x000000000000647d)\n",
      "error in running finalizer: MethodError(f=typeof(Base.getindex)(), args=(nothing, 1), world=0x000000000000647d)\n",
      "error in running finalizer: MethodError(f=typeof(Base.getindex)(), args=(nothing, 1), world=0x000000000000647d)\n",
      "error in running finalizer: MethodError(f=typeof(Base.getindex)(), args=(nothing, 1), world=0x000000000000647d)\n",
      "error in running finalizer: MethodError(f=typeof(Base.getindex)(), args=(nothing, 1), world=0x000000000000647d)\n",
      "error in running finalizer: MethodError(f=typeof(Base.getindex)(), args=(nothing, 1), world=0x000000000000647d)\n",
      "error in running finalizer: MethodError(f=typeof(Base.getindex)(), args=(nothing, 1), world=0x000000000000647d)\n",
      "error in running finalizer: MethodError(f=typeof(Base.getindex)(), args=(nothing, 1), world=0x000000000000647d)\n",
      "error in running finalizer: MethodError(f=typeof(Base.getindex)(), args=(nothing, 1), world=0x000000000000647d)\n",
      "error in running finalizer: MethodError(f=typeof(Base.getindex)(), args=(nothing, 1), world=0x000000000000647d)\n",
      "error in running finalizer: MethodError(f=typeof(Base.getindex)(), args=(nothing, 1), world=0x000000000000647d)\n",
      "error in running finalizer: MethodError(f=typeof(Base.getindex)(), args=(nothing, 1), world=0x000000000000647d)\n",
      "error in running finalizer: MethodError(f=typeof(Base.getindex)(), args=(nothing, 1), world=0x000000000000647d)\n",
      "error in running finalizer: MethodError(f=typeof(Base.getindex)(), args=(nothing, 1), world=0x000000000000647d)\n",
      "error in running finalizer: MethodError(f=typeof(Base.getindex)(), args=(nothing, 1), world=0x000000000000647d)\n",
      "error in running finalizer: MethodError(f=typeof(Base.getindex)(), args=(nothing, 1), world=0x000000000000647d)\n",
      "error in running finalizer: MethodError(f=typeof(Base.getindex)(), args=(nothing, 1), world=0x000000000000647d)\n",
      "error in running finalizer: MethodError(f=typeof(Base.getindex)(), args=(nothing, 1), world=0x000000000000647d)\n",
      "error in running finalizer: MethodError(f=typeof(Base.getindex)(), args=(nothing, 1), world=0x000000000000647d)\n",
      "error in running finalizer: MethodError(f=typeof(Base.getindex)(), args=(nothing, 1), world=0x000000000000647d)\n",
      "error in running finalizer: MethodError(f=typeof(Base.getindex)(), args=(nothing, 1), world=0x000000000000647d)\n",
      "error in running finalizer: MethodError(f=typeof(Base.getindex)(), args=(nothing, 1), world=0x000000000000647d)\n",
      "error in running finalizer: MethodError(f=typeof(Base.getindex)(), args=(nothing, 1), world=0x000000000000647d)\n",
      "error in running finalizer: MethodError(f=typeof(Base.getindex)(), args=(nothing, 1), world=0x000000000000647d)\n",
      "error in running finalizer: MethodError(f=typeof(Base.getindex)(), args=(nothing, 1), world=0x000000000000647d)\n",
      "error in running finalizer: MethodError(f=typeof(Base.getindex)(), args=(nothing, 1), world=0x000000000000647d)\n",
      "error in running finalizer: MethodError(f=typeof(Base.getindex)(), args=(nothing, 1), world=0x000000000000647d)\n",
      "error in running finalizer: MethodError(f=typeof(Base.getindex)(), args=(nothing, 1), world=0x000000000000647d)\n",
      "error in running finalizer: MethodError(f=typeof(Base.getindex)(), args=(nothing, 1), world=0x000000000000647d)\n",
      "error in running finalizer: MethodError(f=typeof(Base.getindex)(), args=(nothing, 1), world=0x000000000000647d)\n",
      "error in running finalizer: MethodError(f=typeof(Base.getindex)(), args=(nothing, 1), world=0x000000000000647d)\n",
      "error in running finalizer: MethodError(f=typeof(Base.getindex)(), args=(nothing, 1), world=0x000000000000647d)\n",
      "error in running finalizer: MethodError(f=typeof(Base.getindex)(), args=(nothing, 1), world=0x000000000000647d)\n",
      "error in running finalizer: MethodError(f=typeof(Base.getindex)(), args=(nothing, 1), world=0x000000000000647d)\n",
      "error in running finalizer: MethodError(f=typeof(Base.getindex)(), args=(nothing, 1), world=0x000000000000647d)\n",
      "error in running finalizer: MethodError(f=typeof(Base.getindex)(), args=(nothing, 1), world=0x000000000000647d)\n",
      "error in running finalizer: MethodError(f=typeof(Base.getindex)(), args=(nothing, 1), world=0x000000000000647d)\n",
      "error in running finalizer: MethodError(f=typeof(Base.getindex)(), args=(nothing, 1), world=0x000000000000647d)\n"
     ]
    }
   ],
   "source": [
    "include(Knet.dir(\"data\", \"mnist.jl\"))\n",
    "using Plots\n",
    "using ArgParse\n",
    "using Dates\n",
    "using Images"
   ]
  },
  {
   "cell_type": "code",
   "execution_count": 18,
   "metadata": {},
   "outputs": [
    {
     "ename": "UndefVarError",
     "evalue": "UndefVarError: dtst not defined",
     "output_type": "error",
     "traceback": [
      "UndefVarError: dtst not defined",
      "",
      "Stacktrace:",
      " [1] top-level scope at In[18]:1"
     ]
    }
   ],
   "source": [
    "x,y = first(dtst)"
   ]
  },
  {
   "cell_type": "code",
   "execution_count": 19,
   "metadata": {},
   "outputs": [
    {
     "name": "stderr",
     "output_type": "stream",
     "text": [
      "┌ Info: Loading MNIST...\n",
      "└ @ Main /kuacc/users/ikesen16/.julia/packages/Knet/05UDD/data/mnist.jl:33\n"
     ]
    }
   ],
   "source": [
    "xtrn, ytrn, xtst, ytst = mnist()\n",
    "μ, σ = mean(xtrn), std(xtrn)\n",
    "xtrn = (xtrn .- μ) ./ σ\n",
    "xtst = (xtst .- μ) ./ σ;"
   ]
  },
  {
   "cell_type": "code",
   "execution_count": 20,
   "metadata": {},
   "outputs": [
    {
     "data": {
      "text/plain": [
       "Knet.Data{Tuple{KnetArray{Float64,4},Array{UInt8,1}}}(Float32[-0.424074 -0.424074 … -0.424074 -0.424074; -0.424074 -0.424074 … -0.424074 -0.424074; … ; -0.424074 -0.424074 … -0.424074 -0.424074; -0.424074 -0.424074 … -0.424074 -0.424074], UInt8[0x07 0x02 … 0x05 0x06], 1, 10000, false, 10000, 1:10000, false, (28, 28, 1, 10000), (10000,), KnetArray{Float64,N} where N, Array{UInt8,1})"
      ]
     },
     "execution_count": 20,
     "metadata": {},
     "output_type": "execute_result"
    }
   ],
   "source": [
    "dtst = minibatch(xtst, ytst, 1; xtype=KnetArray{Float64})"
   ]
  },
  {
   "cell_type": "code",
   "execution_count": 39,
   "metadata": {},
   "outputs": [],
   "source": [
    "using .Iterators: take, drop"
   ]
  },
  {
   "cell_type": "code",
   "execution_count": 157,
   "metadata": {},
   "outputs": [],
   "source": [
    "x, y = first(drop(dtst,1));"
   ]
  },
  {
   "cell_type": "code",
   "execution_count": 158,
   "metadata": {},
   "outputs": [
    {
     "data": {
      "image/png": "[encoded data removed]",
      "text/plain": [
       "28×28 reinterpret(Gray{Float64}, ::Array{Float64,2}):\n",
       " Gray{Float64}(1.56791e-9)  …  Gray{Float64}(1.56791e-9)\n",
       " Gray{Float64}(1.56791e-9)     Gray{Float64}(1.56791e-9)\n",
       " Gray{Float64}(1.56791e-9)     Gray{Float64}(1.56791e-9)\n",
       " Gray{Float64}(1.56791e-9)     Gray{Float64}(1.56791e-9)\n",
       " Gray{Float64}(1.56791e-9)     Gray{Float64}(1.56791e-9)\n",
       " Gray{Float64}(1.56791e-9)  …  Gray{Float64}(1.56791e-9)\n",
       " Gray{Float64}(1.56791e-9)     Gray{Float64}(1.56791e-9)\n",
       " Gray{Float64}(1.56791e-9)     Gray{Float64}(1.56791e-9)\n",
       " Gray{Float64}(1.56791e-9)     Gray{Float64}(1.56791e-9)\n",
       " Gray{Float64}(1.56791e-9)     Gray{Float64}(1.56791e-9)\n",
       " Gray{Float64}(1.56791e-9)  …  Gray{Float64}(1.56791e-9)\n",
       " Gray{Float64}(1.56791e-9)     Gray{Float64}(1.56791e-9)\n",
       " Gray{Float64}(1.56791e-9)     Gray{Float64}(1.56791e-9)\n",
       " ⋮                          ⋱                           \n",
       " Gray{Float64}(1.56791e-9)     Gray{Float64}(1.56791e-9)\n",
       " Gray{Float64}(1.56791e-9)     Gray{Float64}(1.56791e-9)\n",
       " Gray{Float64}(1.56791e-9)     Gray{Float64}(1.56791e-9)\n",
       " Gray{Float64}(1.56791e-9)     Gray{Float64}(1.56791e-9)\n",
       " Gray{Float64}(1.56791e-9)  …  Gray{Float64}(1.56791e-9)\n",
       " Gray{Float64}(1.56791e-9)     Gray{Float64}(1.56791e-9)\n",
       " Gray{Float64}(1.56791e-9)     Gray{Float64}(1.56791e-9)\n",
       " Gray{Float64}(1.56791e-9)     Gray{Float64}(1.56791e-9)\n",
       " Gray{Float64}(1.56791e-9)     Gray{Float64}(1.56791e-9)\n",
       " Gray{Float64}(1.56791e-9)  …  Gray{Float64}(1.56791e-9)\n",
       " Gray{Float64}(1.56791e-9)     Gray{Float64}(1.56791e-9)\n",
       " Gray{Float64}(1.56791e-9)     Gray{Float64}(1.56791e-9)"
      ]
     },
     "execution_count": 158,
     "metadata": {},
     "output_type": "execute_result"
    }
   ],
   "source": [
    "mnistview(Array(x*σ .+ μ),1)"
   ]
  },
  {
   "cell_type": "code",
   "execution_count": 167,
   "metadata": {},
   "outputs": [],
   "source": [
    "scores, baseline, logπ, ht = ram(x);"
   ]
  },
  {
   "cell_type": "code",
   "execution_count": 168,
   "metadata": {},
   "outputs": [
    {
     "data": {
      "text/plain": [
       "10×1 KnetArray{Float64,2}:\n",
       " -12.229155771678247\n",
       "  -3.531536539711638\n",
       " -15.725677815418729\n",
       " -19.171794388994734\n",
       " -24.348543209870343\n",
       " -14.943239330603848\n",
       " -19.956313129163117\n",
       " -23.279139226458692\n",
       " -28.411351695955226\n",
       " -17.67775249240084 "
      ]
     },
     "execution_count": 168,
     "metadata": {},
     "output_type": "execute_result"
    }
   ],
   "source": [
    "scores"
   ]
  },
  {
   "cell_type": "code",
   "execution_count": 169,
   "metadata": {},
   "outputs": [
    {
     "data": {
      "text/plain": [
       "7-element Array{Array{Int64,2},1}:\n",
       " [14; 14]\n",
       " [25; 5] \n",
       " [22; 17]\n",
       " [24; 7] \n",
       " [19; 10]\n",
       " [19; 7] \n",
       " [20; 9] "
      ]
     },
     "execution_count": 169,
     "metadata": {},
     "output_type": "execute_result"
    }
   ],
   "source": [
    "locs = map(l->Array{Int}(ceil.((l .+ 1) .* 0.5 .* 28.0)), ram.locations)"
   ]
  },
  {
   "cell_type": "code",
   "execution_count": 170,
   "metadata": {},
   "outputs": [
    {
     "data": {
      "text/plain": [
       "28×28×1 Array{Float64,3}:\n",
       "[:, :, 1] =\n",
       " 1.56791e-9  1.56791e-9  1.56791e-9  …  1.56791e-9  1.56791e-9  1.56791e-9\n",
       " 1.56791e-9  1.56791e-9  1.56791e-9     1.56791e-9  1.56791e-9  1.56791e-9\n",
       " 1.56791e-9  1.56791e-9  1.56791e-9     1.56791e-9  1.56791e-9  1.56791e-9\n",
       " 1.56791e-9  1.56791e-9  1.56791e-9     1.56791e-9  1.56791e-9  1.56791e-9\n",
       " 1.56791e-9  1.56791e-9  1.56791e-9     1.56791e-9  1.56791e-9  1.56791e-9\n",
       " 1.56791e-9  1.56791e-9  1.56791e-9  …  1.56791e-9  1.56791e-9  1.56791e-9\n",
       " 1.56791e-9  1.56791e-9  1.56791e-9     1.56791e-9  1.56791e-9  1.56791e-9\n",
       " 1.56791e-9  1.56791e-9  1.56791e-9     1.56791e-9  1.56791e-9  1.56791e-9\n",
       " 1.56791e-9  1.56791e-9  1.56791e-9     1.56791e-9  1.56791e-9  1.56791e-9\n",
       " 1.56791e-9  1.56791e-9  1.56791e-9     1.56791e-9  1.56791e-9  1.56791e-9\n",
       " 1.56791e-9  1.56791e-9  1.56791e-9  …  1.56791e-9  1.56791e-9  1.56791e-9\n",
       " 1.56791e-9  1.56791e-9  1.56791e-9     1.56791e-9  1.56791e-9  1.56791e-9\n",
       " 1.56791e-9  1.56791e-9  1.56791e-9     1.56791e-9  1.56791e-9  1.56791e-9\n",
       " ⋮                                   ⋱  ⋮                                 \n",
       " 1.56791e-9  1.56791e-9  1.56791e-9     1.56791e-9  1.56791e-9  1.56791e-9\n",
       " 1.56791e-9  1.56791e-9  1.56791e-9     1.56791e-9  1.56791e-9  1.56791e-9\n",
       " 1.56791e-9  1.56791e-9  1.56791e-9     1.56791e-9  1.56791e-9  1.56791e-9\n",
       " 1.56791e-9  1.56791e-9  1.56791e-9     1.56791e-9  1.56791e-9  1.56791e-9\n",
       " 1.56791e-9  1.56791e-9  1.56791e-9  …  1.56791e-9  1.56791e-9  1.56791e-9\n",
       " 1.56791e-9  1.56791e-9  1.56791e-9     1.56791e-9  1.56791e-9  1.56791e-9\n",
       " 1.56791e-9  1.56791e-9  1.56791e-9     1.56791e-9  1.56791e-9  1.56791e-9\n",
       " 1.56791e-9  1.56791e-9  1.56791e-9     1.56791e-9  1.56791e-9  1.56791e-9\n",
       " 1.56791e-9  1.56791e-9  1.56791e-9     1.56791e-9  1.56791e-9  1.56791e-9\n",
       " 1.56791e-9  1.56791e-9  1.56791e-9  …  1.56791e-9  1.56791e-9  1.56791e-9\n",
       " 1.56791e-9  1.56791e-9  1.56791e-9     1.56791e-9  1.56791e-9  1.56791e-9\n",
       " 1.56791e-9  1.56791e-9  1.56791e-9     1.56791e-9  1.56791e-9  1.56791e-9"
      ]
     },
     "execution_count": 170,
     "metadata": {},
     "output_type": "execute_result"
    }
   ],
   "source": [
    "x0 = Array(x*σ .+ μ); x0 = reshape(x0, 28, 28, 1)"
   ]
  },
  {
   "cell_type": "code",
   "execution_count": 171,
   "metadata": {},
   "outputs": [
    {
     "data": {
      "text/plain": [
       "mnistview1 (generic function with 2 methods)"
      ]
     },
     "execution_count": 171,
     "metadata": {},
     "output_type": "execute_result"
    }
   ],
   "source": [
    "function mnistview1(x)\n",
    "    # y1 = x[:,:,:,i]\n",
    "    y2 = permutedims(x,(3,2,1))\n",
    "    colorview(RGB, y2)\n",
    "end"
   ]
  },
  {
   "cell_type": "code",
   "execution_count": 172,
   "metadata": {},
   "outputs": [
    {
     "data": {
      "text/plain": [
       "draw_glimpse (generic function with 2 methods)"
      ]
     },
     "execution_count": 172,
     "metadata": {},
     "output_type": "execute_result"
    }
   ],
   "source": [
    "# size(x): (W, H, C, B)\n",
    "# length(locations): num_glimpses\n",
    "# locations[i] => (x_center, y_center)\n",
    "draw_glimpses(x, locations, patchsize=8) = map(li->draw_glimpse(x,li,patchsize), locations)\n",
    "function draw_glimpse(x, location, patchsize=8)\n",
    "    W, H = size(x)[1:2]\n",
    "    glimpse = repeat(x, 1, 1, 3);\n",
    "    x0 = location[1] - div(patchsize,2)\n",
    "    x1 = x0 + patchsize-1; x0 = max(x0,1); x1 = min(x1,W)\n",
    "    y0 = location[2] - div(patchsize,2)\n",
    "    y1 = y0 + patchsize-1; y0 = max(y0,1); y1 = min(y1,H)\n",
    "    glimpse[x0:x1,[y0,y1],1] .= 1.0;\n",
    "    glimpse[x0:x1,[y0,y1],2:3] .= 0.0; \n",
    "    glimpse[[x0,x1],y0:y1,1] .= 1.0; \n",
    "    glimpse[[x0,x1],y0:y1,2:3] .= 0.0; \n",
    "    return glimpse\n",
    "end"
   ]
  },
  {
   "cell_type": "code",
   "execution_count": 173,
   "metadata": {},
   "outputs": [
    {
     "data": {
      "text/plain": [
       "7-element Array{Array{Float64,3},1}:\n",
       " [1.56791e-9 1.56791e-9 … 1.56791e-9 1.56791e-9; 1.56791e-9 1.56791e-9 … 1.56791e-9 1.56791e-9; … ; 1.56791e-9 1.56791e-9 … 1.56791e-9 1.56791e-9; 1.56791e-9 1.56791e-9 … 1.56791e-9 1.56791e-9]\n",
       "\n",
       "[1.56791e-9 1.56791e-9 … 1.56791e-9 1.56791e-9; 1.56791e-9 1.56791e-9 … 1.56791e-9 1.56791e-9; … ; 1.56791e-9 1.56791e-9 … 1.56791e-9 1.56791e-9; 1.56791e-9 1.56791e-9 … 1.56791e-9 1.56791e-9]\n",
       "\n",
       "[1.56791e-9 1.56791e-9 … 1.56791e-9 1.56791e-9; 1.56791e-9 1.56791e-9 … 1.56791e-9 1.56791e-9; … ; 1.56791e-9 1.56791e-9 … 1.56791e-9 1.56791e-9; 1.56791e-9 1.56791e-9 … 1.56791e-9 1.56791e-9]\n",
       " [1.56791e-9 1.56791e-9 … 1.56791e-9 1.56791e-9; 1.56791e-9 1.56791e-9 … 1.56791e-9 1.56791e-9; … ; 1.0 1.56791e-9 … 1.56791e-9 1.56791e-9; 1.0 1.0 … 1.56791e-9 1.56791e-9]\n",
       "\n",
       "[1.56791e-9 1.56791e-9 … 1.56791e-9 1.56791e-9; 1.56791e-9 1.56791e-9 … 1.56791e-9 1.56791e-9; … ; 0.0 1.56791e-9 … 1.56791e-9 1.56791e-9; 0.0 0.0 … 1.56791e-9 1.56791e-9]\n",
       "\n",
       "[1.56791e-9 1.56791e-9 … 1.56791e-9 1.56791e-9; 1.56791e-9 1.56791e-9 … 1.56791e-9 1.56791e-9; … ; 0.0 1.56791e-9 … 1.56791e-9 1.56791e-9; 0.0 0.0 … 1.56791e-9 1.56791e-9]                                                               \n",
       " [1.56791e-9 1.56791e-9 … 1.56791e-9 1.56791e-9; 1.56791e-9 1.56791e-9 … 1.56791e-9 1.56791e-9; … ; 1.56791e-9 1.56791e-9 … 1.56791e-9 1.56791e-9; 1.56791e-9 1.56791e-9 … 1.56791e-9 1.56791e-9]\n",
       "\n",
       "[1.56791e-9 1.56791e-9 … 1.56791e-9 1.56791e-9; 1.56791e-9 1.56791e-9 … 1.56791e-9 1.56791e-9; … ; 1.56791e-9 1.56791e-9 … 1.56791e-9 1.56791e-9; 1.56791e-9 1.56791e-9 … 1.56791e-9 1.56791e-9]\n",
       "\n",
       "[1.56791e-9 1.56791e-9 … 1.56791e-9 1.56791e-9; 1.56791e-9 1.56791e-9 … 1.56791e-9 1.56791e-9; … ; 1.56791e-9 1.56791e-9 … 1.56791e-9 1.56791e-9; 1.56791e-9 1.56791e-9 … 1.56791e-9 1.56791e-9]\n",
       " [1.56791e-9 1.56791e-9 … 1.56791e-9 1.56791e-9; 1.56791e-9 1.56791e-9 … 1.56791e-9 1.56791e-9; … ; 1.56791e-9 1.56791e-9 … 1.56791e-9 1.56791e-9; 1.56791e-9 1.56791e-9 … 1.56791e-9 1.56791e-9]\n",
       "\n",
       "[1.56791e-9 1.56791e-9 … 1.56791e-9 1.56791e-9; 1.56791e-9 1.56791e-9 … 1.56791e-9 1.56791e-9; … ; 1.56791e-9 1.56791e-9 … 1.56791e-9 1.56791e-9; 1.56791e-9 1.56791e-9 … 1.56791e-9 1.56791e-9]\n",
       "\n",
       "[1.56791e-9 1.56791e-9 … 1.56791e-9 1.56791e-9; 1.56791e-9 1.56791e-9 … 1.56791e-9 1.56791e-9; … ; 1.56791e-9 1.56791e-9 … 1.56791e-9 1.56791e-9; 1.56791e-9 1.56791e-9 … 1.56791e-9 1.56791e-9]\n",
       " [1.56791e-9 1.56791e-9 … 1.56791e-9 1.56791e-9; 1.56791e-9 1.56791e-9 … 1.56791e-9 1.56791e-9; … ; 1.56791e-9 1.56791e-9 … 1.56791e-9 1.56791e-9; 1.56791e-9 1.56791e-9 … 1.56791e-9 1.56791e-9]\n",
       "\n",
       "[1.56791e-9 1.56791e-9 … 1.56791e-9 1.56791e-9; 1.56791e-9 1.56791e-9 … 1.56791e-9 1.56791e-9; … ; 1.56791e-9 1.56791e-9 … 1.56791e-9 1.56791e-9; 1.56791e-9 1.56791e-9 … 1.56791e-9 1.56791e-9]\n",
       "\n",
       "[1.56791e-9 1.56791e-9 … 1.56791e-9 1.56791e-9; 1.56791e-9 1.56791e-9 … 1.56791e-9 1.56791e-9; … ; 1.56791e-9 1.56791e-9 … 1.56791e-9 1.56791e-9; 1.56791e-9 1.56791e-9 … 1.56791e-9 1.56791e-9]\n",
       " [1.56791e-9 1.56791e-9 … 1.56791e-9 1.56791e-9; 1.56791e-9 1.56791e-9 … 1.56791e-9 1.56791e-9; … ; 1.56791e-9 1.56791e-9 … 1.56791e-9 1.56791e-9; 1.56791e-9 1.56791e-9 … 1.56791e-9 1.56791e-9]\n",
       "\n",
       "[1.56791e-9 1.56791e-9 … 1.56791e-9 1.56791e-9; 1.56791e-9 1.56791e-9 … 1.56791e-9 1.56791e-9; … ; 1.56791e-9 1.56791e-9 … 1.56791e-9 1.56791e-9; 1.56791e-9 1.56791e-9 … 1.56791e-9 1.56791e-9]\n",
       "\n",
       "[1.56791e-9 1.56791e-9 … 1.56791e-9 1.56791e-9; 1.56791e-9 1.56791e-9 … 1.56791e-9 1.56791e-9; … ; 1.56791e-9 1.56791e-9 … 1.56791e-9 1.56791e-9; 1.56791e-9 1.56791e-9 … 1.56791e-9 1.56791e-9]\n",
       " [1.56791e-9 1.56791e-9 … 1.56791e-9 1.56791e-9; 1.56791e-9 1.56791e-9 … 1.56791e-9 1.56791e-9; … ; 1.56791e-9 1.56791e-9 … 1.56791e-9 1.56791e-9; 1.56791e-9 1.56791e-9 … 1.56791e-9 1.56791e-9]\n",
       "\n",
       "[1.56791e-9 1.56791e-9 … 1.56791e-9 1.56791e-9; 1.56791e-9 1.56791e-9 … 1.56791e-9 1.56791e-9; … ; 1.56791e-9 1.56791e-9 … 1.56791e-9 1.56791e-9; 1.56791e-9 1.56791e-9 … 1.56791e-9 1.56791e-9]\n",
       "\n",
       "[1.56791e-9 1.56791e-9 … 1.56791e-9 1.56791e-9; 1.56791e-9 1.56791e-9 … 1.56791e-9 1.56791e-9; … ; 1.56791e-9 1.56791e-9 … 1.56791e-9 1.56791e-9; 1.56791e-9 1.56791e-9 … 1.56791e-9 1.56791e-9]"
      ]
     },
     "execution_count": 173,
     "metadata": {},
     "output_type": "execute_result"
    }
   ],
   "source": [
    "gs = draw_glimpses(x0, locs)"
   ]
  },
  {
   "cell_type": "code",
   "execution_count": 174,
   "metadata": {},
   "outputs": [
    {
     "data": {
      "image/png": "[encoded data removed]",
      "text/plain": [
       "28×196 reshape(reinterpret(RGB{Float64}, ::Array{Float64,3}), 28, 196) with eltype RGB{Float64}:\n",
       " RGB{Float64}(1.56791e-9,1.56791e-9,1.56791e-9)  …  RGB{Float64}(1.56791e-9,1.56791e-9,1.56791e-9)\n",
       " RGB{Float64}(1.56791e-9,1.56791e-9,1.56791e-9)     RGB{Float64}(1.56791e-9,1.56791e-9,1.56791e-9)\n",
       " RGB{Float64}(1.56791e-9,1.56791e-9,1.56791e-9)     RGB{Float64}(1.56791e-9,1.56791e-9,1.56791e-9)\n",
       " RGB{Float64}(1.56791e-9,1.56791e-9,1.56791e-9)     RGB{Float64}(1.56791e-9,1.56791e-9,1.56791e-9)\n",
       " RGB{Float64}(1.56791e-9,1.56791e-9,1.56791e-9)     RGB{Float64}(1.56791e-9,1.56791e-9,1.56791e-9)\n",
       " RGB{Float64}(1.56791e-9,1.56791e-9,1.56791e-9)  …  RGB{Float64}(1.56791e-9,1.56791e-9,1.56791e-9)\n",
       " RGB{Float64}(1.56791e-9,1.56791e-9,1.56791e-9)     RGB{Float64}(1.56791e-9,1.56791e-9,1.56791e-9)\n",
       " RGB{Float64}(1.56791e-9,1.56791e-9,1.56791e-9)     RGB{Float64}(1.56791e-9,1.56791e-9,1.56791e-9)\n",
       " RGB{Float64}(1.56791e-9,1.56791e-9,1.56791e-9)     RGB{Float64}(1.56791e-9,1.56791e-9,1.56791e-9)\n",
       " RGB{Float64}(1.56791e-9,1.56791e-9,1.56791e-9)     RGB{Float64}(1.56791e-9,1.56791e-9,1.56791e-9)\n",
       " RGB{Float64}(1.56791e-9,1.56791e-9,1.56791e-9)  …  RGB{Float64}(1.56791e-9,1.56791e-9,1.56791e-9)\n",
       " RGB{Float64}(1.56791e-9,1.56791e-9,1.56791e-9)     RGB{Float64}(1.56791e-9,1.56791e-9,1.56791e-9)\n",
       " RGB{Float64}(1.56791e-9,1.56791e-9,1.56791e-9)     RGB{Float64}(1.56791e-9,1.56791e-9,1.56791e-9)\n",
       " ⋮                                               ⋱  ⋮                                             \n",
       " RGB{Float64}(1.56791e-9,1.56791e-9,1.56791e-9)     RGB{Float64}(1.56791e-9,1.56791e-9,1.56791e-9)\n",
       " RGB{Float64}(1.56791e-9,1.56791e-9,1.56791e-9)     RGB{Float64}(1.56791e-9,1.56791e-9,1.56791e-9)\n",
       " RGB{Float64}(1.56791e-9,1.56791e-9,1.56791e-9)     RGB{Float64}(1.56791e-9,1.56791e-9,1.56791e-9)\n",
       " RGB{Float64}(1.56791e-9,1.56791e-9,1.56791e-9)     RGB{Float64}(1.56791e-9,1.56791e-9,1.56791e-9)\n",
       " RGB{Float64}(1.56791e-9,1.56791e-9,1.56791e-9)  …  RGB{Float64}(1.56791e-9,1.56791e-9,1.56791e-9)\n",
       " RGB{Float64}(1.56791e-9,1.56791e-9,1.56791e-9)     RGB{Float64}(1.56791e-9,1.56791e-9,1.56791e-9)\n",
       " RGB{Float64}(1.56791e-9,1.56791e-9,1.56791e-9)     RGB{Float64}(1.56791e-9,1.56791e-9,1.56791e-9)\n",
       " RGB{Float64}(1.56791e-9,1.56791e-9,1.56791e-9)     RGB{Float64}(1.56791e-9,1.56791e-9,1.56791e-9)\n",
       " RGB{Float64}(1.56791e-9,1.56791e-9,1.56791e-9)     RGB{Float64}(1.56791e-9,1.56791e-9,1.56791e-9)\n",
       " RGB{Float64}(1.56791e-9,1.56791e-9,1.56791e-9)  …  RGB{Float64}(1.56791e-9,1.56791e-9,1.56791e-9)\n",
       " RGB{Float64}(1.56791e-9,1.56791e-9,1.56791e-9)     RGB{Float64}(1.56791e-9,1.56791e-9,1.56791e-9)\n",
       " RGB{Float64}(1.56791e-9,1.56791e-9,1.56791e-9)     RGB{Float64}(1.56791e-9,1.56791e-9,1.56791e-9)"
      ]
     },
     "execution_count": 174,
     "metadata": {},
     "output_type": "execute_result"
    }
   ],
   "source": [
    "mnistview1(cat(gs...,dims=1))"
   ]
  },
  {
   "cell_type": "code",
   "execution_count": null,
   "metadata": {},
   "outputs": [],
   "source": []
  }
 ],
 "metadata": {
  "kernelspec": {
   "display_name": "Julia 1.1.0",
   "language": "julia",
   "name": "julia-1.1"
  },
  "language_info": {
   "file_extension": ".jl",
   "mimetype": "application/julia",
   "name": "julia",
   "version": "1.1.0"
  }
 },
 "nbformat": 4,
 "nbformat_minor": 2
}
