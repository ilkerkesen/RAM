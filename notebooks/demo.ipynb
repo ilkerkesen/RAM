{
 "cells": [
  {
   "cell_type": "code",
   "execution_count": 1,
   "metadata": {},
   "outputs": [
    {
     "name": "stderr",
     "output_type": "stream",
     "text": [
      "┌ Info: Recompiling stale cache file /home/ec2-user/.julia/compiled/v1.1/RAM/4LmYP.ji for RAM [bf214bdc-85f4-11e9-1ca3-895e27ce660b]\n",
      "└ @ Base loading.jl:1184\n"
     ]
    }
   ],
   "source": [
    "using Knet, Sloth, Images, FileIO, RAM\n",
    "include(Knet.dir(\"data\", \"mnist.jl\"))"
   ]
  },
  {
   "cell_type": "code",
   "execution_count": 2,
   "metadata": {},
   "outputs": [
    {
     "name": "stderr",
     "output_type": "stream",
     "text": [
      "┌ Info: Loading MNIST...\n",
      "└ @ Main /home/ec2-user/.julia/packages/Knet/HwZrA/data/mnist.jl:33\n"
     ]
    }
   ],
   "source": [
    "atype = RAM.atype\n",
    "dtrn, dtst = mnistdata(;xtype=atype, batchsize=1);"
   ]
  },
  {
   "cell_type": "code",
   "execution_count": 3,
   "metadata": {},
   "outputs": [
    {
     "data": {
      "text/plain": [
       "0.8610777243589743"
      ]
     },
     "execution_count": 3,
     "metadata": {},
     "output_type": "execute_result"
    }
   ],
   "source": [
    "Knet.@load \"/home/ec2-user/dev/RAM/checkpoints/cudnn-lstm-seed-2-best.jld2\"\n",
    "history[end][end] # tstacc"
   ]
  },
  {
   "cell_type": "code",
   "execution_count": 4,
   "metadata": {},
   "outputs": [],
   "source": [
    "x,y = rand(dtst);"
   ]
  },
  {
   "cell_type": "code",
   "execution_count": 5,
   "metadata": {},
   "outputs": [
    {
     "data": {
      "image/png": "[encoded data removed]",
      "text/plain": [
       "28×196 reshape(reinterpret(RGB{Float64}, ::Array{Float64,3}), 28, 196) with eltype RGB{Float64}:\n",
       " RGB{Float64}(0.0,0.0,0.0)  …  RGB{Float64}(0.0,0.0,0.0)\n",
       " RGB{Float64}(0.0,0.0,0.0)     RGB{Float64}(0.0,0.0,0.0)\n",
       " RGB{Float64}(0.0,0.0,0.0)     RGB{Float64}(0.0,0.0,0.0)\n",
       " RGB{Float64}(0.0,0.0,0.0)     RGB{Float64}(0.0,0.0,0.0)\n",
       " RGB{Float64}(0.0,0.0,0.0)     RGB{Float64}(0.0,0.0,0.0)\n",
       " RGB{Float64}(0.0,0.0,0.0)  …  RGB{Float64}(0.0,0.0,0.0)\n",
       " RGB{Float64}(0.0,0.0,0.0)     RGB{Float64}(0.0,0.0,0.0)\n",
       " RGB{Float64}(0.0,0.0,0.0)     RGB{Float64}(0.0,0.0,0.0)\n",
       " RGB{Float64}(0.0,0.0,0.0)     RGB{Float64}(0.0,0.0,0.0)\n",
       " RGB{Float64}(0.0,0.0,0.0)     RGB{Float64}(0.0,0.0,0.0)\n",
       " RGB{Float64}(0.0,0.0,0.0)  …  RGB{Float64}(0.0,0.0,0.0)\n",
       " RGB{Float64}(0.0,0.0,0.0)     RGB{Float64}(0.0,0.0,0.0)\n",
       " RGB{Float64}(0.0,0.0,0.0)     RGB{Float64}(0.0,0.0,0.0)\n",
       " ⋮                          ⋱  ⋮                        \n",
       " RGB{Float64}(0.0,0.0,0.0)     RGB{Float64}(0.0,0.0,0.0)\n",
       " RGB{Float64}(0.0,0.0,0.0)     RGB{Float64}(0.0,0.0,0.0)\n",
       " RGB{Float64}(0.0,0.0,0.0)     RGB{Float64}(0.0,0.0,0.0)\n",
       " RGB{Float64}(0.0,0.0,0.0)     RGB{Float64}(0.0,0.0,0.0)\n",
       " RGB{Float64}(0.0,0.0,0.0)  …  RGB{Float64}(0.0,0.0,0.0)\n",
       " RGB{Float64}(0.0,0.0,0.0)     RGB{Float64}(0.0,0.0,0.0)\n",
       " RGB{Float64}(0.0,0.0,0.0)     RGB{Float64}(0.0,0.0,0.0)\n",
       " RGB{Float64}(0.0,0.0,0.0)     RGB{Float64}(0.0,0.0,0.0)\n",
       " RGB{Float64}(0.0,0.0,0.0)     RGB{Float64}(1.0,0.0,0.0)\n",
       " RGB{Float64}(0.0,0.0,0.0)  …  RGB{Float64}(1.0,0.0,0.0)\n",
       " RGB{Float64}(0.0,0.0,0.0)     RGB{Float64}(1.0,0.0,0.0)\n",
       " RGB{Float64}(0.0,0.0,0.0)     RGB{Float64}(1.0,0.0,0.0)"
      ]
     },
     "metadata": {},
     "output_type": "display_data"
    },
    {
     "name": "stdout",
     "output_type": "stream",
     "text": [
      "size(full) = (196, 28, 3)\n"
     ]
    },
    {
     "name": "stderr",
     "output_type": "stream",
     "text": [
      "error in running finalizer: Base.KeyError(key=524288)\n",
      "error in running finalizer: Base.KeyError(key=524288)\n"
     ]
    },
    {
     "data": {
      "text/plain": [
       "10×2 Array{Float64,2}:\n",
       " 1.0  90.48\n",
       " 2.0   0.92\n",
       " 3.0   0.22\n",
       " 4.0   1.46\n",
       " 5.0   3.3 \n",
       " 6.0   1.47\n",
       " 7.0   0.33\n",
       " 8.0   0.29\n",
       " 9.0   0.84\n",
       " 0.0   0.68"
      ]
     },
     "execution_count": 5,
     "metadata": {},
     "output_type": "execute_result"
    }
   ],
   "source": [
    "scores, baseline, logπ, locations = ram(x)\n",
    "probabilities = round.(100softmax(Array(scores)), digits=2)\n",
    "img = RAM.unrolled_view(RAM.draw_glimpses(Array(x), locations)...)\n",
    "display(img)\n",
    "[[1:9..., 0] probabilities]"
   ]
  }
 ],
 "metadata": {
  "@webio": {
   "lastCommId": null,
   "lastKernelId": null
  },
  "kernelspec": {
   "display_name": "Julia 1.1.1",
   "language": "julia",
   "name": "julia-1.1"
  },
  "language_info": {
   "file_extension": ".jl",
   "mimetype": "application/julia",
   "name": "julia",
   "version": "1.1.1"
  }
 },
 "nbformat": 4,
 "nbformat_minor": 2
}
